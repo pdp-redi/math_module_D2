{
 "cells": [
  {
   "cell_type": "markdown",
   "metadata": {},
   "source": [
    "## Linear Algebra Quiz #3\n",
    "\n",
    "![title](./img/3_0.jpeg)\n",
    "\n",
    "We strongly suggest working with numpy :)"
   ]
  },
  {
   "cell_type": "code",
   "execution_count": 1,
   "metadata": {},
   "outputs": [],
   "source": [
    "#Do your imports here\n",
    "import numpy as np"
   ]
  },
  {
   "cell_type": "markdown",
   "metadata": {},
   "source": [
    "![title](./img/3_2.png)\n",
    "![title](./img/3_3.png)\n",
    "Create a program that can output\n",
    "\n",
    "- What is the value of element c23​ of Matrix C where C=A x B ?\n",
    "- What is the value of element c23​ of Matrix C where C=B x A ?"
   ]
  },
  {
   "cell_type": "code",
   "execution_count": 2,
   "metadata": {},
   "outputs": [
    {
     "name": "stdout",
     "output_type": "stream",
     "text": [
      "c23 = 5.0 \n",
      " c23 = 5.0\n",
      "3 3\n"
     ]
    }
   ],
   "source": [
    "# okay numpy is great but... how would you inverse a matrix by hand?\n",
    "A= np.array([[3,1,2],[-5,4,1],[0,3,-8]])\n",
    "B = np.array([[0,5,-1],[3,2,-1],[10,0.5,4]])\n",
    "# print(A.dot(B))\n",
    "res =np.array([])\n",
    "sol=np.array([])\n",
    "total = 0\n",
    "total1 = 0\n",
    "for i in range(A.shape[0]):\n",
    "    k=0\n",
    "    while k < A.shape[0]:\n",
    "          for j in range(B.shape[0]):\n",
    "                total =total+(A[i,j]*B[j,k]) \n",
    "                total1 =total1+(B[i,j]*A[j,k]) \n",
    "          res = np.append(res, np.array([total]))\n",
    "          sol = np.append(res, np.array([total1]))\n",
    "          total = 0\n",
    "          total1 = 0\n",
    "          k+= 1\n",
    "\n",
    "C =res.reshape(A.shape[0],B.shape[1])\n",
    "C_ =res.reshape(B.shape[0],A.shape[1])\n",
    "print(\"c23 =\",C[1,2], '\\n' ,\"c23 =\",C_[1,2]) \n",
    "\n",
    "print(C.shape[0],C.shape[1])\n",
    "  \n",
    "# def inverse_matrix(A):\n",
    "#     return \"\""
   ]
  },
  {
   "cell_type": "code",
   "execution_count": 3,
   "metadata": {},
   "outputs": [
    {
     "name": "stdout",
     "output_type": "stream",
     "text": [
      "[[ 0.16        0.86        0.04      ]\n",
      " [ 1.15428571  1.45428571 -0.06857143]\n",
      " [-0.81714286  0.48285714 -0.52571429]]\n"
     ]
    }
   ],
   "source": [
    "# Using Numpy\n",
    "A= np.array([[3,1,2],[-5,4,1],[0,3,-8]])\n",
    "B = np.array([[0,5,-1],[3,2,-1],[10,0.5,4]])\n",
    "# C =A.dot(B)\n",
    "C =np.linalg.solve(A,B)\n",
    "print(C)"
   ]
  },
  {
   "cell_type": "code",
   "execution_count": 4,
   "metadata": {},
   "outputs": [
    {
     "name": "stdout",
     "output_type": "stream",
     "text": [
      "[[1. 0.]\n",
      " [0. 1.]]\n"
     ]
    }
   ],
   "source": [
    "# Inverse matrix using numpy\n",
    "def inverse_matrix(A):\n",
    "    \n",
    "    return np.linalg.inv(A)\n",
    "a = np.array([[1,2],[2,3]])\n",
    "A = np.array([[3,1,2],[-5,4,1],[0,3,-8]])\n",
    "b= inverse_matrix(a)\n",
    "# B = inverse_matrix(A)\n",
    "c = b.dot(a)\n",
    "# print(B)\n",
    "# c=a.dot(b)\n",
    "print(c)"
   ]
  },
  {
   "cell_type": "markdown",
   "metadata": {},
   "source": [
    "![title](./img/3_1.png)\n",
    "Create a program that can output\n",
    "\n",
    "- What is the value of the ijth element if i = 2 and j=3?\n",
    "- What is the value of the ijth element if i = 3 and j=1?"
   ]
  },
  {
   "cell_type": "code",
   "execution_count": 5,
   "metadata": {},
   "outputs": [
    {
     "name": "stdout",
     "output_type": "stream",
     "text": [
      "-2.7 5.7\n"
     ]
    }
   ],
   "source": [
    "# Just answer using code --> easy stuff!\n",
    "A = np.array([[3, 0.6, 4, -3],[-1.3,4,0,8.6],[7,0,-8,0.006]])\n",
    "B = np.array([[3, -5.76, 45, 0],[2, -2, 1.3 , 9],[-9, 0,0,0]])\n",
    "C = np.array([[0,1009, -66.7849, 90],[0,5,4,-0.07],[-7.7,0,0,0]])\n",
    "\n",
    "D =A+B-C\n",
    "print(D[1,2],D[2,0])\n",
    "# Harder\n",
    "# Can you build a matrix solver that can do output the result given n matrices and a sequence of operations such as [add subtract multiply transpose?]\n",
    "#Some ideas on valid operations: Multiplication Addition Subtraction Inverstion Transposed. "
   ]
  },
  {
   "cell_type": "markdown",
   "metadata": {},
   "source": [
    "![title](./img/3_3.png)\n",
    "Create a program that can output\n",
    "- How many rows will C have?\n",
    "- How many columns will C have?\n",
    "- What will be the value of c13​?"
   ]
  },
  {
   "cell_type": "code",
   "execution_count": 6,
   "metadata": {},
   "outputs": [
    {
     "name": "stdout",
     "output_type": "stream",
     "text": [
      "c13 = [595.6]\n",
      "Rows in C = 1 Columns in C= 3\n"
     ]
    }
   ],
   "source": [
    "#  manually to solve with python\n",
    "A= np.array([0.6,-15, 2, 5, 98])\n",
    "B = np.array([[2,2,-4],[9,-14,0],[13,-0.5,44],[1,9,4],[0,0,5]])\n",
    "\n",
    "res =np.array([])\n",
    "\n",
    "total = 0\n",
    "\n",
    "# for i in range(A.ndim):\n",
    "k=0\n",
    "while k < B.shape[1]:\n",
    "          for j in range(B.shape[0]):\n",
    "                total =total+(A[j]*B[j,k]) \n",
    "\n",
    "          res = np.append(res, np.array([total]))\n",
    "\n",
    "          total = 0\n",
    "          k+= 1\n",
    "\n",
    "C =res.reshape(A.ndim,B.shape[1])\n",
    "print(\"c13 =\",C[:,2]) \n",
    "print(\"Rows in C =\",C.shape[0],\"Columns in C=\",C.shape[1])\n",
    "\n",
    "  "
   ]
  },
  {
   "cell_type": "code",
   "execution_count": 7,
   "metadata": {},
   "outputs": [
    {
     "name": "stdout",
     "output_type": "stream",
     "text": [
      "595.6\n"
     ]
    }
   ],
   "source": [
    "# using numpy\n",
    "A= np.array([0.6,-15, 2, 5, 98])\n",
    "B = np.array([[2,2,-4],[9,-14,0],[13,-0.5,44],[1,9,4],[0,0,5]])\n",
    "\n",
    "C=A.dot(B)\n",
    "\n",
    "print(C[2])"
   ]
  },
  {
   "cell_type": "code",
   "execution_count": null,
   "metadata": {},
   "outputs": [],
   "source": []
  }
 ],
 "metadata": {
  "kernelspec": {
   "display_name": "Python 3",
   "language": "python",
   "name": "python3"
  },
  "language_info": {
   "codemirror_mode": {
    "name": "ipython",
    "version": 3
   },
   "file_extension": ".py",
   "mimetype": "text/x-python",
   "name": "python",
   "nbconvert_exporter": "python",
   "pygments_lexer": "ipython3",
   "version": "3.8.8"
  },
  "varInspector": {
   "cols": {
    "lenName": 16,
    "lenType": 16,
    "lenVar": 40
   },
   "kernels_config": {
    "python": {
     "delete_cmd_postfix": "",
     "delete_cmd_prefix": "del ",
     "library": "var_list.py",
     "varRefreshCmd": "print(var_dic_list())"
    },
    "r": {
     "delete_cmd_postfix": ") ",
     "delete_cmd_prefix": "rm(",
     "library": "var_list.r",
     "varRefreshCmd": "cat(var_dic_list()) "
    }
   },
   "types_to_exclude": [
    "module",
    "function",
    "builtin_function_or_method",
    "instance",
    "_Feature"
   ],
   "window_display": false
  }
 },
 "nbformat": 4,
 "nbformat_minor": 2
}
